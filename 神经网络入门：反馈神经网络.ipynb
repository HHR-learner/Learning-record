{
 "cells": [
  {
   "cell_type": "markdown",
   "metadata": {},
   "source": [
    "# 例1"
   ]
  },
  {
   "cell_type": "code",
   "execution_count": 1,
   "metadata": {},
   "outputs": [],
   "source": [
    "import numpy as np"
   ]
  },
  {
   "cell_type": "code",
   "execution_count": 2,
   "metadata": {},
   "outputs": [],
   "source": [
    "def sigmoid(x):\n",
    "    #激活函数\n",
    "    #作用：根据输入的值返回一个连续值，在0-1之间\n",
    "    return 1/(1+np.exp(x))"
   ]
  },
  {
   "cell_type": "code",
   "execution_count": 3,
   "metadata": {},
   "outputs": [],
   "source": [
    "class Neuron:\n",
    "    #神经元功能：将输入结果*权重+偏置，然后通过激活函数\n",
    "    def __init__(self,weight,bias):\n",
    "        self.weight=weight\n",
    "        self.bias=bias\n",
    "    def feedforward(self,inputs):\n",
    "        total=np.dot(self.weight,inputs)+self.bias\n",
    "        return sigmoid(total)"
   ]
  },
  {
   "cell_type": "code",
   "execution_count": 14,
   "metadata": {},
   "outputs": [],
   "source": [
    "class OurNeuralNetwork:\n",
    "    '''\n",
    "    此神经网络包含：\n",
    "    2个输入\n",
    "    一个隐藏层包含两个神经元（h1，h2）\n",
    "    一个输出层包含一个神经元(o1)\n",
    "    每个神经元都有相同的权重和偏置\n",
    "    '''\n",
    "    def __init__(self):\n",
    "        weight=np.array([0,1])#默认的权重和偏差\n",
    "        bias=0\n",
    "        \n",
    "        self.h1=Neuron(weight,bias)\n",
    "        self.h2=Neuron(weight,bias)\n",
    "        self.o1=Neuron(weight,bias)\n",
    "        \n",
    "    def feedforword(self,x):\n",
    "        out_h1 = self.h1.feedforward(x)#h1运算\n",
    "        out_h2 = self.h2.feedforward(x)#h2运算\n",
    "        \n",
    "        out_o1 = self.o1.feedforward(np.array([out_h1,out_h2]))#输出层运算，输入值为隐藏层的输出\n",
    "        return out_o1"
   ]
  },
  {
   "cell_type": "code",
   "execution_count": 36,
   "metadata": {},
   "outputs": [],
   "source": [
    "def Mse_loss(y_true,y_pred):\n",
    "    return ((y_true-y_pred)**2).mean()"
   ]
  },
  {
   "cell_type": "code",
   "execution_count": 37,
   "metadata": {
    "scrolled": true
   },
   "outputs": [
    {
     "name": "stdout",
     "output_type": "stream",
     "text": [
      "Epoch 0 loss: 0.263\n",
      "Epoch 10 loss: 0.141\n",
      "Epoch 20 loss: 0.086\n",
      "Epoch 30 loss: 0.062\n",
      "Epoch 40 loss: 0.048\n",
      "Epoch 50 loss: 0.039\n",
      "Epoch 60 loss: 0.033\n",
      "Epoch 70 loss: 0.028\n",
      "Epoch 80 loss: 0.024\n",
      "Epoch 90 loss: 0.021\n",
      "Epoch 100 loss: 0.019\n",
      "Epoch 110 loss: 0.017\n",
      "Epoch 120 loss: 0.016\n",
      "Epoch 130 loss: 0.014\n",
      "Epoch 140 loss: 0.013\n",
      "Epoch 150 loss: 0.012\n",
      "Epoch 160 loss: 0.011\n",
      "Epoch 170 loss: 0.011\n",
      "Epoch 180 loss: 0.010\n",
      "Epoch 190 loss: 0.009\n",
      "Epoch 200 loss: 0.009\n",
      "Epoch 210 loss: 0.008\n",
      "Epoch 220 loss: 0.008\n",
      "Epoch 230 loss: 0.008\n",
      "Epoch 240 loss: 0.007\n",
      "Epoch 250 loss: 0.007\n",
      "Epoch 260 loss: 0.007\n",
      "Epoch 270 loss: 0.006\n",
      "Epoch 280 loss: 0.006\n",
      "Epoch 290 loss: 0.006\n",
      "Epoch 300 loss: 0.006\n",
      "Epoch 310 loss: 0.005\n",
      "Epoch 320 loss: 0.005\n",
      "Epoch 330 loss: 0.005\n",
      "Epoch 340 loss: 0.005\n",
      "Epoch 350 loss: 0.005\n",
      "Epoch 360 loss: 0.005\n",
      "Epoch 370 loss: 0.004\n",
      "Epoch 380 loss: 0.004\n",
      "Epoch 390 loss: 0.004\n",
      "Epoch 400 loss: 0.004\n",
      "Epoch 410 loss: 0.004\n",
      "Epoch 420 loss: 0.004\n",
      "Epoch 430 loss: 0.004\n",
      "Epoch 440 loss: 0.004\n",
      "Epoch 450 loss: 0.004\n",
      "Epoch 460 loss: 0.003\n",
      "Epoch 470 loss: 0.003\n",
      "Epoch 480 loss: 0.003\n",
      "Epoch 490 loss: 0.003\n",
      "Epoch 500 loss: 0.003\n",
      "Epoch 510 loss: 0.003\n",
      "Epoch 520 loss: 0.003\n",
      "Epoch 530 loss: 0.003\n",
      "Epoch 540 loss: 0.003\n",
      "Epoch 550 loss: 0.003\n",
      "Epoch 560 loss: 0.003\n",
      "Epoch 570 loss: 0.003\n",
      "Epoch 580 loss: 0.003\n",
      "Epoch 590 loss: 0.003\n",
      "Epoch 600 loss: 0.003\n",
      "Epoch 610 loss: 0.003\n",
      "Epoch 620 loss: 0.002\n",
      "Epoch 630 loss: 0.002\n",
      "Epoch 640 loss: 0.002\n",
      "Epoch 650 loss: 0.002\n",
      "Epoch 660 loss: 0.002\n",
      "Epoch 670 loss: 0.002\n",
      "Epoch 680 loss: 0.002\n",
      "Epoch 690 loss: 0.002\n",
      "Epoch 700 loss: 0.002\n",
      "Epoch 710 loss: 0.002\n",
      "Epoch 720 loss: 0.002\n",
      "Epoch 730 loss: 0.002\n",
      "Epoch 740 loss: 0.002\n",
      "Epoch 750 loss: 0.002\n",
      "Epoch 760 loss: 0.002\n",
      "Epoch 770 loss: 0.002\n",
      "Epoch 780 loss: 0.002\n",
      "Epoch 790 loss: 0.002\n",
      "Epoch 800 loss: 0.002\n",
      "Epoch 810 loss: 0.002\n",
      "Epoch 820 loss: 0.002\n",
      "Epoch 830 loss: 0.002\n",
      "Epoch 840 loss: 0.002\n",
      "Epoch 850 loss: 0.002\n",
      "Epoch 860 loss: 0.002\n",
      "Epoch 870 loss: 0.002\n",
      "Epoch 880 loss: 0.002\n",
      "Epoch 890 loss: 0.002\n",
      "Epoch 900 loss: 0.002\n",
      "Epoch 910 loss: 0.002\n",
      "Epoch 920 loss: 0.002\n",
      "Epoch 930 loss: 0.002\n",
      "Epoch 940 loss: 0.002\n",
      "Epoch 950 loss: 0.002\n",
      "Epoch 960 loss: 0.002\n",
      "Epoch 970 loss: 0.002\n",
      "Epoch 980 loss: 0.002\n",
      "Epoch 990 loss: 0.001\n"
     ]
    }
   ],
   "source": [
    "import numpy as np\n",
    "\n",
    "def sigmoid(x):\n",
    "  # Sigmoid activation function: f(x) = 1 / (1 + e^(-x))\n",
    "  return 1 / (1 + np.exp(-x))\n",
    "\n",
    "def deriv_sigmoid(x):\n",
    "  # Derivative of sigmoid: f'(x) = f(x) * (1 - f(x))\n",
    "  fx = sigmoid(x)\n",
    "  return fx * (1 - fx)\n",
    "\n",
    "def mse_loss(y_true, y_pred):\n",
    "  # y_true and y_pred are numpy arrays of the same length.\n",
    "  return ((y_true - y_pred) ** 2).mean()\n",
    "\n",
    "class OurNeuralNetwork:\n",
    "  '''\n",
    "  A neural network with:\n",
    "    - 2 inputs\n",
    "    - a hidden layer with 2 neurons (h1, h2)\n",
    "    - an output layer with 1 neuron (o1)\n",
    "\n",
    "  *** DISCLAIMER ***:\n",
    "  The code below is intended to be simple and educational, NOT optimal.\n",
    "  Real neural net code looks nothing like this. DO NOT use this code.\n",
    "  Instead, read/run it to understand how this specific network works.\n",
    "  '''\n",
    "  def __init__(self):\n",
    "    # Weights\n",
    "    self.w1 = np.random.normal()\n",
    "    self.w2 = np.random.normal()\n",
    "    self.w3 = np.random.normal()\n",
    "    self.w4 = np.random.normal()\n",
    "    self.w5 = np.random.normal()\n",
    "    self.w6 = np.random.normal()\n",
    "\n",
    "    # Biases\n",
    "    self.b1 = np.random.normal()\n",
    "    self.b2 = np.random.normal()\n",
    "    self.b3 = np.random.normal()\n",
    "\n",
    "  def feedforward(self, x):\n",
    "    # x is a numpy array with 2 elements.\n",
    "    h1 = sigmoid(self.w1 * x[0] + self.w2 * x[1] + self.b1)\n",
    "    h2 = sigmoid(self.w3 * x[0] + self.w4 * x[1] + self.b2)\n",
    "    o1 = sigmoid(self.w5 * h1 + self.w6 * h2 + self.b3)\n",
    "    return o1\n",
    "\n",
    "  def train(self, data, all_y_trues):\n",
    "    '''\n",
    "    - data is a (n x 2) numpy array, n = # of samples in the dataset.\n",
    "    - all_y_trues is a numpy array with n elements.\n",
    "      Elements in all_y_trues correspond to those in data.\n",
    "    '''\n",
    "    learn_rate = 0.1\n",
    "    epochs = 1000 # number of times to loop through the entire dataset\n",
    "\n",
    "    for epoch in range(epochs):\n",
    "      for x, y_true in zip(data, all_y_trues):\n",
    "        # --- Do a feedforward (we'll need these values later)\n",
    "        sum_h1 = self.w1 * x[0] + self.w2 * x[1] + self.b1\n",
    "        h1 = sigmoid(sum_h1)\n",
    "\n",
    "        sum_h2 = self.w3 * x[0] + self.w4 * x[1] + self.b2\n",
    "        h2 = sigmoid(sum_h2)\n",
    "\n",
    "        sum_o1 = self.w5 * h1 + self.w6 * h2 + self.b3\n",
    "        o1 = sigmoid(sum_o1)\n",
    "        y_pred = o1\n",
    "\n",
    "        # --- Calculate partial derivatives.\n",
    "        # --- Naming: d_L_d_w1 represents \"partial L / partial w1\"\n",
    "        d_L_d_ypred = -2 * (y_true - y_pred)\n",
    "\n",
    "        # Neuron o1\n",
    "        d_ypred_d_w5 = h1 * deriv_sigmoid(sum_o1)\n",
    "        d_ypred_d_w6 = h2 * deriv_sigmoid(sum_o1)\n",
    "        d_ypred_d_b3 = deriv_sigmoid(sum_o1)\n",
    "\n",
    "        d_ypred_d_h1 = self.w5 * deriv_sigmoid(sum_o1)\n",
    "        d_ypred_d_h2 = self.w6 * deriv_sigmoid(sum_o1)\n",
    "\n",
    "        # Neuron h1\n",
    "        d_h1_d_w1 = x[0] * deriv_sigmoid(sum_h1)\n",
    "        d_h1_d_w2 = x[1] * deriv_sigmoid(sum_h1)\n",
    "        d_h1_d_b1 = deriv_sigmoid(sum_h1)\n",
    "\n",
    "        # Neuron h2\n",
    "        d_h2_d_w3 = x[0] * deriv_sigmoid(sum_h2)\n",
    "        d_h2_d_w4 = x[1] * deriv_sigmoid(sum_h2)\n",
    "        d_h2_d_b2 = deriv_sigmoid(sum_h2)\n",
    "\n",
    "        # --- Update weights and biases\n",
    "        # Neuron h1\n",
    "        self.w1 -= learn_rate * d_L_d_ypred * d_ypred_d_h1 * d_h1_d_w1\n",
    "        self.w2 -= learn_rate * d_L_d_ypred * d_ypred_d_h1 * d_h1_d_w2\n",
    "        self.b1 -= learn_rate * d_L_d_ypred * d_ypred_d_h1 * d_h1_d_b1\n",
    "\n",
    "        # Neuron h2\n",
    "        self.w3 -= learn_rate * d_L_d_ypred * d_ypred_d_h2 * d_h2_d_w3\n",
    "        self.w4 -= learn_rate * d_L_d_ypred * d_ypred_d_h2 * d_h2_d_w4\n",
    "        self.b2 -= learn_rate * d_L_d_ypred * d_ypred_d_h2 * d_h2_d_b2\n",
    "\n",
    "        # Neuron o1\n",
    "        self.w5 -= learn_rate * d_L_d_ypred * d_ypred_d_w5\n",
    "        self.w6 -= learn_rate * d_L_d_ypred * d_ypred_d_w6\n",
    "        self.b3 -= learn_rate * d_L_d_ypred * d_ypred_d_b3\n",
    "\n",
    "      # --- Calculate total loss at the end of each epoch\n",
    "      if epoch % 10 == 0:\n",
    "        y_preds = np.apply_along_axis(self.feedforward, 1, data)\n",
    "        loss = mse_loss(all_y_trues, y_preds)\n",
    "        print(\"Epoch %d loss: %.3f\" % (epoch, loss))\n",
    "\n",
    "# Define dataset\n",
    "data = np.array([\n",
    "  [-2, -1],  # Alice\n",
    "  [25, 6],   # Bob\n",
    "  [17, 4],   # Charlie\n",
    "  [-15, -6], # Diana\n",
    "])\n",
    "all_y_trues = np.array([\n",
    "  1, # Alice\n",
    "  0, # Bob\n",
    "  0, # Charlie\n",
    "  1, # Diana\n",
    "])\n",
    "\n",
    "# Train our neural network!\n",
    "network = OurNeuralNetwork()\n",
    "network.train(data, all_y_trues)"
   ]
  },
  {
   "cell_type": "code",
   "execution_count": 38,
   "metadata": {},
   "outputs": [
    {
     "name": "stdout",
     "output_type": "stream",
     "text": [
      "Emily: 0.965\n",
      "Frank: 0.039\n"
     ]
    }
   ],
   "source": [
    "# Make some predictions\n",
    "emily = np.array([-7, -3]) # 128 pounds, 63 inches\n",
    "frank = np.array([20, 2])  # 155 pounds, 68 inches\n",
    "print(\"Emily: %.3f\" % network.feedforward(emily)) # 0.951 - F\n",
    "print(\"Frank: %.3f\" % network.feedforward(frank)) # 0.039 - M"
   ]
  },
  {
   "cell_type": "markdown",
   "metadata": {},
   "source": [
    "*****"
   ]
  },
  {
   "cell_type": "markdown",
   "metadata": {},
   "source": [
    "# Neural Networks Tutorial – A Pathway to Deep Learning"
   ]
  },
  {
   "cell_type": "markdown",
   "metadata": {},
   "source": [
    "## The artificial neuron"
   ]
  },
  {
   "cell_type": "code",
   "execution_count": 40,
   "metadata": {},
   "outputs": [],
   "source": [
    "import matplotlib.pylab as plt\n",
    "import numpy as np"
   ]
  },
  {
   "cell_type": "code",
   "execution_count": 41,
   "metadata": {},
   "outputs": [
    {
     "data": {
      "image/png": "[encoded data removed]",
      "text/plain": [
       "<Figure size 432x288 with 1 Axes>"
      ]
     },
     "metadata": {
      "needs_background": "light"
     },
     "output_type": "display_data"
    }
   ],
   "source": [
    "x = np.arange(-8,8,0.1)\n",
    "f=1/(1+np.exp(-x))\n",
    "plt.plot(x,f)\n",
    "plt.show()"
   ]
  },
  {
   "cell_type": "markdown",
   "metadata": {},
   "source": [
    "sigmoid函数不是阶跃函数而是一个平滑的函数，所以它有导数，这对于梯度下降算法很重要"
   ]
  },
  {
   "cell_type": "markdown",
   "metadata": {},
   "source": [
    "## Nodes"
   ]
  },
  {
   "cell_type": "markdown",
   "metadata": {},
   "source": [
    "某些神经元输出是其他神经元的输出，这通常被称为连接层。  \n",
    "每个神经元接收到多个加权输入，通过将这些加权输入的总和输入激活函数并产生这个神经元的输出  \n",
    "![神经元](http://adventuresinmachinelearning.com/wp-content/uploads/2017/03/Node-diagram-300x125.jpg)"
   ]
  },
  {
   "cell_type": "markdown",
   "metadata": {},
   "source": [
    "将以下式子输入节点，并通过激活函数后，  \n",
    "\\begin{equation*}\n",
    " x_1w_1 + x_2w_2 + x_3w_3 + b\n",
    " \\end{equation*}\n",
    "得到输出：  \n",
    "\\begin{equation*}\n",
    "h_{w,b}(X)\n",
    " \\end{equation*}\n"
   ]
  },
  {
   "cell_type": "markdown",
   "metadata": {},
   "source": [
    "其中$w_i$就是权重，$b$为该节点的偏置，可以使此节点更容易触发或不触发"
   ]
  },
  {
   "cell_type": "markdown",
   "metadata": {},
   "source": [
    "## bias"
   ]
  },
  {
   "cell_type": "markdown",
   "metadata": {},
   "source": [
    "极其简单的例子，观察改变权重对节点输出值的影响"
   ]
  },
  {
   "cell_type": "code",
   "execution_count": 46,
   "metadata": {},
   "outputs": [
    {
     "data": {
      "image/png": "[encoded data removed]",
      "text/plain": [
       "<Figure size 432x288 with 1 Axes>"
      ]
     },
     "metadata": {
      "needs_background": "light"
     },
     "output_type": "display_data"
    }
   ],
   "source": [
    "w1 = 0.5\n",
    "w2 = 1\n",
    "w3 = 2\n",
    "l1 = '0.5'\n",
    "l2 = '1'\n",
    "l3 = '2'\n",
    "for w, l in [(w1,l1),(w2,l2),(w3,l3)]:\n",
    "    f = 1/(1 + np.exp(-(x*w)))\n",
    "    plt.plot(x,f,label=l)\n",
    "    plt.legend()\n",
    "plt.xlabel('x')\n",
    "plt.ylabel('h_w(x)')\n",
    "plt.show()"
   ]
  },
  {
   "cell_type": "markdown",
   "metadata": {},
   "source": [
    "可以看到权重会改变激活函数的斜率，接下来查看偏置对输出的影响\n",
    "![](http://adventuresinmachinelearning.com/wp-content/uploads/2017/03/Simple-node-with-bias-300x126.png)"
   ]
  },
  {
   "cell_type": "code",
   "execution_count": 47,
   "metadata": {},
   "outputs": [
    {
     "data": {
      "image/png": "[encoded data removed]",
      "text/plain": [
       "<Figure size 432x288 with 1 Axes>"
      ]
     },
     "metadata": {
      "needs_background": "light"
     },
     "output_type": "display_data"
    }
   ],
   "source": [
    "w = 5.0\n",
    "b1 = -8.0\n",
    "b2 = 0.0\n",
    "b3 = 8.0\n",
    "l1 = 'b = -8.0'\n",
    "l2 = 'b = 0.0'\n",
    "l3 = 'b = 8.0'\n",
    "for b, l in [(b1, l1), (b2, l2), (b3, l3)]:\n",
    "    f = 1 / (1 + np.exp(-(x*w+b)))\n",
    "    plt.plot(x, f, label=l)\n",
    "plt.xlabel('x')\n",
    "plt.ylabel('h_wb(x)')\n",
    "plt.legend(loc=2)\n",
    "plt.show()"
   ]
  },
  {
   "cell_type": "markdown",
   "metadata": {},
   "source": [
    "可以发现通过改变偏置$b$，可以控制节点何时激活"
   ]
  },
  {
   "cell_type": "markdown",
   "metadata": {},
   "source": [
    "## Putting together the structure"
   ]
  },
  {
   "cell_type": "markdown",
   "metadata": {},
   "source": [
    "前面的描述告诉了你单个神经元是如何运作的，下面介绍几个常见的层  \n",
    "![](http://adventuresinmachinelearning.com/wp-content/uploads/2017/03/Three-layer-network-300x158.png)  \n",
    "输入层：输入数据的层，由各个样本组成  \n",
    "隐藏层：既不是输入层也不是输出层的层既隐藏层，本例中只有一个隐藏层   \n",
    "输出层：输出数据的层，接收隐藏层的输出并通过激活函数计算出输出  "
   ]
  },
  {
   "cell_type": "markdown",
   "metadata": {},
   "source": [
    "## The notation"
   ]
  },
  {
   "cell_type": "markdown",
   "metadata": {},
   "source": [
    "下面解释一些符号，便于理解后面的式子"
   ]
  },
  {
   "cell_type": "markdown",
   "metadata": {},
   "source": [
    ">权重：${w_{ij}}^{(l)}$，其中$i$代表$l+1$层中的节点，$j$代表$l$层的节点  \n",
    "\n",
    "因此，对于连接1层的节点1与2层的节点2的权重，表示为${w_{21}}^{(1)}$  。你可能会觉得i和j反了，但是这样后面添加偏置时会更容易解释"
   ]
  },
  {
   "cell_type": "markdown",
   "metadata": {},
   "source": [
    ">偏置：${b_i}^{(l)}$，其中$i$代表$l+1$层的节点数，其他与权重相同"
   ]
  },
  {
   "cell_type": "markdown",
   "metadata": {},
   "source": [
    "故第1层的偏置与第二层的节点的权重表示为${b_2}^{(1)}$  。在上图可以看到，上一层的偏置会连接到下一层的所有节点，它通常会被设定成1，"
   ]
  },
  {
   "cell_type": "markdown",
   "metadata": {},
   "source": [
    "**所有的**${w_{ji}}^{(1)}$**和**${b_i}^{(l)}$**值都要在ANN的训练阶段中计算**"
   ]
  },
  {
   "cell_type": "markdown",
   "metadata": {},
   "source": [
    ">输出值：${h_j}^{(l)}$,其中$j$表示$l$层的节点。\n",
    "\n",
    "故上图第二层第二个节点的输出为${h_2}^{(2)}$"
   ]
  },
  {
   "cell_type": "markdown",
   "metadata": {},
   "source": [
    "  "
   ]
  },
  {
   "cell_type": "markdown",
   "metadata": {},
   "source": [
    "理清所有符号后，是时候在已知权重与输入时计算输出了，我们称这个过程为前馈传递(feed-forward pass or process)"
   ]
  },
  {
   "cell_type": "markdown",
   "metadata": {},
   "source": [
    "# The feed-forward pass"
   ]
  },
  {
   "cell_type": "markdown",
   "metadata": {},
   "source": [
    "![](http://adventuresinmachinelearning.com/wp-content/uploads/2017/03/Three-layer-network-300x158.png) "
   ]
  },
  {
   "cell_type": "markdown",
   "metadata": {},
   "source": [
    "上图例子中的前馈传递计算公式："
   ]
  },
  {
   "cell_type": "markdown",
   "metadata": {},
   "source": [
    "\\begin{align}\n",
    " h_1^{(2)} &= f(w_{11}^{(1)}x_1 + w_{12}^{(1)} x_2 + w_{13}^{(1)} x_3 + b_1^{(1)}) \\\\\n",
    " h_2^{(2)} &= f(w_{21}^{(1)}x_1 + w_{22}^{(1)} x_2 + w_{23}^{(1)} x_3 + b_2^{(1)}) \\\\\n",
    " h_3^{(2)} &= f(w_{31}^{(1)}x_1 + w_{32}^{(1)} x_2 + w_{33}^{(1)} x_3 + b_3^{(1)}) \\\\\n",
    " h_{W,b}(x) &= h_1^{(3)} = f(w_{11}^{(2)}h_1^{(2)} + w_{12}^{(2)} h_2^{(2)} + w_{13}^{(2)} h_3^{(2)} + b_1^{(2)})\n",
    " \\end{align}"
   ]
  },
  {
   "cell_type": "markdown",
   "metadata": {},
   "source": [
    "## A feed-forward example"
   ]
  },
  {
   "cell_type": "markdown",
   "metadata": {},
   "source": [
    "下面我们用python实现计算上图神经网络的输出，\n",
    "首先用矩阵表示第一层与第二层之间的权重："
   ]
  },
  {
   "cell_type": "markdown",
   "metadata": {},
   "source": [
    "\\begin{equation}\n",
    " W^{(1)} =\n",
    " \\begin{pmatrix}\n",
    " w_{11}^{(1)} & w_{12}^{(1)} & w_{13}^{(1)} \\\\\n",
    " w_{21}^{(1)} & w_{22}^{(1)} & w_{23}^{(1)} \\\\\n",
    " w_{31}^{(1)} & w_{32}^{(1)} & w_{33}^{(1)} \\\\\n",
    " \\end{pmatrix}\n",
    " \\end{equation}"
   ]
  },
  {
   "cell_type": "code",
   "execution_count": 54,
   "metadata": {},
   "outputs": [],
   "source": [
    "import numpy as np\n",
    "w1=np.array([[0.2,0.25,0.3],[0.4,0.45,0.5],[0.6,0.65,0.7]])"
   ]
  },
  {
   "cell_type": "code",
   "execution_count": 55,
   "metadata": {},
   "outputs": [
    {
     "data": {
      "text/plain": [
       "array([[0.2 , 0.25, 0.3 ],\n",
       "       [0.4 , 0.45, 0.5 ],\n",
       "       [0.6 , 0.65, 0.7 ]])"
      ]
     },
     "execution_count": 55,
     "metadata": {},
     "output_type": "execute_result"
    }
   ],
   "source": [
    "w1"
   ]
  },
  {
   "cell_type": "markdown",
   "metadata": {},
   "source": [
    "同样的，用矩阵表示第二层与第三层之间的权重："
   ]
  },
  {
   "cell_type": "markdown",
   "metadata": {},
   "source": [
    "\\begin{equation}\n",
    " W^{(2)} =\n",
    " \\begin{pmatrix}\n",
    " w_{11}^{(2)} & w_{12}^{(2)} & w_{13}^{(2)}\n",
    " \\end{pmatrix}\n",
    " \\end{equation}"
   ]
  },
  {
   "cell_type": "code",
   "execution_count": 64,
   "metadata": {},
   "outputs": [],
   "source": [
    "w2=np.zeros((1,3))\n",
    "w2[0,:]=np.array([0.5,0.6,0.7])"
   ]
  },
  {
   "cell_type": "code",
   "execution_count": 65,
   "metadata": {},
   "outputs": [
    {
     "data": {
      "text/plain": [
       "array([[0.5, 0.6, 0.7]])"
      ]
     },
     "execution_count": 65,
     "metadata": {},
     "output_type": "execute_result"
    }
   ],
   "source": [
    "w2"
   ]
  },
  {
   "cell_type": "markdown",
   "metadata": {},
   "source": [
    "添加第一层和第二层对下一层的偏置："
   ]
  },
  {
   "cell_type": "code",
   "execution_count": 66,
   "metadata": {},
   "outputs": [],
   "source": [
    "b1 = np.array([0.5,0.6,0.8])\n",
    "b2 = np.array([0.2])"
   ]
  },
  {
   "cell_type": "markdown",
   "metadata": {},
   "source": [
    "设置激活函数：(本例中为sigmoid函数)"
   ]
  },
  {
   "cell_type": "code",
   "execution_count": 67,
   "metadata": {},
   "outputs": [],
   "source": [
    "def f(x):\n",
    "    return 1 / (1 + np.exp(-x))"
   ]
  },
  {
   "cell_type": "markdown",
   "metadata": {},
   "source": [
    "## Our first attempt at a feed-forward function"
   ]
  },
  {
   "cell_type": "markdown",
   "metadata": {},
   "source": [
    "下面是用非常简单的循环嵌套计算的神经网络，后面会有更高效的计算方式"
   ]
  },
  {
   "cell_type": "code",
   "execution_count": 83,
   "metadata": {},
   "outputs": [],
   "source": [
    "def simple_looped_nn_calc(n_layers,x,w,b):\n",
    "    for l in range(n_layers-1):\n",
    "        #设置每层权重将乘输入数组，若是第一层则乘x，若不是第一层则乘上一层的输出\n",
    "        if l == 0:\n",
    "            node_in = x\n",
    "        else:\n",
    "            node_in = h\n",
    "        #为l+1层的输出设置\n",
    "        h = np.zeros((w[l].shape[0],))\n",
    "        #循环权重的每一行\n",
    "        for i in range(w[l].shape[0]):\n",
    "            #设置输入激活函数的变量\n",
    "            f_sum = 0\n",
    "            #循环权重的每一列\n",
    "            for j in range(w[l].shape[1]):\n",
    "                f_sum += w[l][i][j] * node_in[j]\n",
    "            #添加偏置\n",
    "            f_sum += b[l][i]\n",
    "            #最终代入激活函数计算输出\n",
    "            h[i] = f(f_sum)\n",
    "    return h"
   ]
  },
  {
   "cell_type": "code",
   "execution_count": 79,
   "metadata": {},
   "outputs": [],
   "source": [
    "w = [w1,w2]\n",
    "b = [b1,b2]\n",
    "x = [1.5, 2, 3]"
   ]
  },
  {
   "cell_type": "code",
   "execution_count": 84,
   "metadata": {},
   "outputs": [
    {
     "data": {
      "text/plain": [
       "array([0.87324108])"
      ]
     },
     "execution_count": 84,
     "metadata": {},
     "output_type": "execute_result"
    }
   ],
   "source": [
    "simple_looped_nn_calc(3,x,w,b)"
   ]
  },
  {
   "cell_type": "markdown",
   "metadata": {},
   "source": [
    "## A more efficient implementation"
   ]
  },
  {
   "cell_type": "markdown",
   "metadata": {},
   "source": [
    "使用循环计算前馈网络效率很低，后面会介绍更有效率的方式，可以使用%timeit来测试算法效率"
   ]
  },
  {
   "cell_type": "code",
   "execution_count": 85,
   "metadata": {},
   "outputs": [
    {
     "name": "stdout",
     "output_type": "stream",
     "text": [
      "24.4 µs ± 284 ns per loop (mean ± std. dev. of 7 runs, 10000 loops each)\n"
     ]
    }
   ],
   "source": [
    "%timeit simple_looped_nn_calc(3,x,w,b)"
   ]
  },
  {
   "cell_type": "markdown",
   "metadata": {},
   "source": [
    "## Vectorisation in neural networks"
   ]
  },
  {
   "cell_type": "markdown",
   "metadata": {},
   "source": [
    "![](http://adventuresinmachinelearning.com/wp-content/uploads/2017/03/Three-layer-network-300x158.png) "
   ]
  },
  {
   "cell_type": "markdown",
   "metadata": {},
   "source": [
    "向量化可以使方程更简洁并使计算更有效率。  \n",
    "首先介绍新符号： $z_{i}^{(l)}$，它是$l$层第$i$个节点的输入，包括偏置。  \n",
    "所以第二层的第一个节点的$z$可以表示成：  \n",
    "$$z_{1}^{(2)} = w_{11}^{(1)}x_1 + w_{12}^{(1)} x_2 + w_{13}^{(1)} x_3 + b_1^{(1)} = \\sum_{j=1}^{n} w_{ij}^{(1)}x_i + b_{i}^{(1)}$$"
   ]
  },
  {
   "cell_type": "markdown",
   "metadata": {},
   "source": [
    "其中$n$代表第一层的节点数，故示例网络的方程可以简化为：\n",
    "\\begin{align}\n",
    " z^{(2)} &= W^{(1)} x + b^{(1)} \\\\\n",
    " h^{(2)} &= f(z^{(2)}) \\\\\n",
    " z^{(3)} &= W^{(2)} h^{(2)} + b^{(2)} \\\\\n",
    " h_{W,b}(x) &= h^{(3)} = f(z^{(3)})\n",
    " \\end{align}"
   ]
  },
  {
   "cell_type": "markdown",
   "metadata": {},
   "source": [
    "通过推广，任意层的前向传播计算为：\n",
    "\\begin{align}\n",
    " z^{(l+1)} &= W^{(l)} h^{(l)} + b^{(l)}   \\\\\n",
    " h^{(l+1)} &= f(z^{(l+1)})\n",
    " \\end{align}"
   ]
  },
  {
   "cell_type": "markdown",
   "metadata": {},
   "source": [
    "## Matrix multiplication"
   ]
  },
  {
   "cell_type": "markdown",
   "metadata": {},
   "source": [
    "展开$z^{(l+1)} = W^{(l)} h^{(l)} + b^{(l)}$在输入层发生的事：\n",
    "\\begin{align}\n",
    " z^{(2)} &=\n",
    " \\begin{pmatrix}\n",
    " w_{11}^{(1)} & w_{12}^{(1)} & w_{13}^{(1)} \\\\\n",
    " w_{21}^{(1)} & w_{22}^{(1)} & w_{23}^{(1)} \\\\\n",
    " w_{31}^{(1)} & w_{32}^{(1)} & w_{33}^{(1)} \\\\\n",
    " \\end{pmatrix}\n",
    " \\begin{pmatrix}\n",
    " x_{1} \\\\\n",
    " x_{2} \\\\\n",
    " x_{3} \\\\\n",
    " \\end{pmatrix} +\n",
    " \\begin{pmatrix}\n",
    " b_{1}^{(1)} \\\\\n",
    " b_{2}^{(1)} \\\\\n",
    " b_{3}^{(1)} \\\\\n",
    " \\end{pmatrix} \\\\\n",
    " &=\n",
    " \\begin{pmatrix}\n",
    " w_{11}^{(1)}x_{1} + w_{12}^{(1)}x_{2} + w_{13}^{(1)}x_{3} \\\\\n",
    " w_{21}^{(1)}x_{1} + w_{22}^{(1)}x_{2} + w_{23}^{(1)}x_{3} \\\\\n",
    " w_{31}^{(1)}x_{1} + w_{32}^{(1)}x_{2} + w_{33}^{(1)}x_{3} \\\\\n",
    " \\end{pmatrix} +\n",
    " \\begin{pmatrix}\n",
    " b_{1}^{(1)} \\\\\n",
    " b_{2}^{(1)} \\\\\n",
    " b_{3}^{(1)} \\\\\n",
    " \\end{pmatrix} \\\\\n",
    " &=\n",
    " \\begin{pmatrix}\n",
    " w_{11}^{(1)}x_{1} + w_{12}^{(1)}x_{2} + w_{13}^{(1)}x_{3} + b_{1}^{(1)} \\\\\n",
    " w_{21}^{(1)}x_{1} + w_{22}^{(1)}x_{2} + w_{23}^{(1)}x_{3} + b_{2}^{(1)} \\\\\n",
    " w_{31}^{(1)}x_{1} + w_{32}^{(1)}x_{2} + w_{33}^{(1)}x_{3} + b_{3}^{(1)} \\\\\n",
    " \\end{pmatrix} \\\\\n",
    " \\end{align}"
   ]
  },
  {
   "cell_type": "markdown",
   "metadata": {},
   "source": [
    "故更有效率的函数为："
   ]
  },
  {
   "cell_type": "code",
   "execution_count": 87,
   "metadata": {},
   "outputs": [],
   "source": [
    "def matrix_feed_forward_calc(n_layers,x,w,b):\n",
    "    for l in range(n_layers-1):\n",
    "        if l == 0:\n",
    "            node_in = x\n",
    "        else:\n",
    "            node_in = h\n",
    "        z = w[l].dot(node_in) + b[l]\n",
    "        h = f(z)\n",
    "    return h"
   ]
  },
  {
   "cell_type": "code",
   "execution_count": 88,
   "metadata": {},
   "outputs": [
    {
     "name": "stdout",
     "output_type": "stream",
     "text": [
      "10.8 µs ± 46.4 ns per loop (mean ± std. dev. of 7 runs, 100000 loops each)\n"
     ]
    }
   ],
   "source": [
    "%timeit matrix_feed_forward_calc(3,x,w,b)"
   ]
  },
  {
   "cell_type": "markdown",
   "metadata": {},
   "source": [
    "下面我们将使用梯度下降和反向传播实际的构建一个神经网络来完成一个分类预测任务\n",
    "\n",
    "******"
   ]
  },
  {
   "cell_type": "markdown",
   "metadata": {},
   "source": [
    "# Gradient descent and optimisation"
   ]
  },
  {
   "cell_type": "markdown",
   "metadata": {},
   "source": [
    "监督学习的目的就是通过改变权重来最小化预测误差，那么如何改变权重可以使误差减小就成了我们要考虑的问题  \n",
    "![](http://adventuresinmachinelearning.com/wp-content/uploads/2017/03/Gradient-descent-300x156.jpg)"
   ]
  },
  {
   "cell_type": "markdown",
   "metadata": {},
   "source": [
    "如上图，这是输入值的权重与最终的误差的函数关系，当我们随机选择了一个权重$w$在点1上，我们希望使权重到达点3来最小化误差的过程就叫做梯度下降（gradient desent）。梯度就是误差曲线在该点的斜率。显然，在斜率为负时增大权重，在斜率为正时减小权重可以使误差最小。而我们希望在远离最低点，也就是斜率较大的时候更快的接近最低点，相反则更慢的接近最低点时，则设置每次权重的改动值与斜率相关。故$w$更新为：\n",
    "\\begin{equation}\n",
    " w_{new} = w_{old} – \\alpha * \\nabla error\n",
    " \\end{equation}"
   ]
  },
  {
   "cell_type": "markdown",
   "metadata": {},
   "source": [
    "其中，$\\nabla error$是误差曲线的斜率，$\\alpha$是步长，它决定了你的函数的收敛速度。当收敛到接近最小值时函数收敛的速度会变得很慢，非常接近最小值，这时候我们希望结束迭代，就可以设置一个精度使当梯度变化小于精度时结束迭代"
   ]
  },
  {
   "cell_type": "markdown",
   "metadata": {},
   "source": [
    "## A simple example in code"
   ]
  },
  {
   "cell_type": "markdown",
   "metadata": {},
   "source": [
    "一个梯度下降解决$f(x) = x^4 – 3x^3 + 2$最小值的例子，(这个函数的斜率可以计算出，但现实问题的函数大多是无法计算的)我们可以轻易的计算出它的最小值是 $x = 2.25$"
   ]
  },
  {
   "cell_type": "code",
   "execution_count": 94,
   "metadata": {},
   "outputs": [
    {
     "name": "stdout",
     "output_type": "stream",
     "text": [
      "最小值是： 2.2499646074278457\n"
     ]
    }
   ],
   "source": [
    "x_old = 0\n",
    "x_new = 6\n",
    "gamma = 0.01\n",
    "precision = 0.00001\n",
    "def d_f(x):\n",
    "    y = 4 * x ** 3 - 9 * x ** 2\n",
    "    return y\n",
    "while abs(x_new-x_old)>precision:\n",
    "    x_old = x_new\n",
    "    x_new += -gamma * d_f(x_old)\n",
    "print('最小值是：',x_new)"
   ]
  },
  {
   "cell_type": "markdown",
   "metadata": {},
   "source": [
    "我们计算神经网络梯度的方法是通过**反向传播方法**，但首先要更仔细的研究误差函数"
   ]
  },
  {
   "cell_type": "markdown",
   "metadata": {},
   "source": [
    "## The cost function"
   ]
  },
  {
   "cell_type": "markdown",
   "metadata": {},
   "source": [
    "成本函数允许我们减小误差并防止过拟合"
   ]
  },
  {
   "cell_type": "markdown",
   "metadata": {},
   "source": [
    "\\begin{align}\n",
    " J(w,b,x,y) &= \\frac{1}{2} \\parallel y^z – h^{(n_l)}(x^z) \\parallel ^2 \\\\\n",
    " &= \\frac{1}{2} \\parallel y^z – y_{pred}(x^z) \\parallel ^2\n",
    " \\end{align}"
   ]
  },
  {
   "cell_type": "markdown",
   "metadata": {},
   "source": [
    "两条垂线代表误差的$L^2$范数，即所谓的平方差（SSE）。"
   ]
  },
  {
   "cell_type": "markdown",
   "metadata": {},
   "source": [
    "而上面的成本函数是针对单个$（x，y）$训练的，我们希望在所有的m个样本中训练最小化成本函数，所以我们希望找到所有训练样本的最小**均方误差（MSE）**："
   ]
  },
  {
   "cell_type": "markdown",
   "metadata": {},
   "source": [
    "\\begin{align}\n",
    " J(w,b) &= \\frac{1}{m} \\sum_{z=0}^m \\frac{1}{2} \\parallel y^z – h^{(n_l)}(x^z) \\parallel ^2 \\\\\n",
    " &= \\frac{1}{m} \\sum_{z=0}^m J(W, b, x^{(z)}, y^{(z)})\n",
    " \\end{align}"
   ]
  },
  {
   "cell_type": "markdown",
   "metadata": {},
   "source": [
    "确定了损失函数后，就可以探究一下神经网络中的梯度下降"
   ]
  },
  {
   "cell_type": "markdown",
   "metadata": {},
   "source": [
    "## Gradient descent in neural networks"
   ]
  },
  {
   "cell_type": "markdown",
   "metadata": {},
   "source": [
    "神经网络中对每个权重与偏置的梯度下降：\n",
    "\\begin{align}\n",
    " w_{ij}^{(l)} &= w_{ij}^{(l)} – \\alpha \\frac{\\partial}{\\partial w_{ij}^{(l)}} J(w,b) \\\\\n",
    " b_{i}^{(l)} &= b_{i}^{(l)} – \\alpha \\frac{\\partial}{\\partial b_{i}^{(l)}} J(w,b)\n",
    " \\end{align}"
   ]
  },
  {
   "cell_type": "markdown",
   "metadata": {},
   "source": [
    "本质上与 $w_{new} = w_{old} – \\alpha * \\nabla error$相同"
   ]
  },
  {
   "cell_type": "markdown",
   "metadata": {},
   "source": [
    "## A two dimensional gradient descent example"
   ]
  },
  {
   "cell_type": "markdown",
   "metadata": {},
   "source": [
    "![](http://adventuresinmachinelearning.com/wp-content/uploads/2017/03/Two-dimensional-gradient-descent-300x203.jpg)"
   ]
  },
  {
   "cell_type": "markdown",
   "metadata": {},
   "source": [
    "## **Backpropagation in depth**"
   ]
  },
  {
   "cell_type": "markdown",
   "metadata": {},
   "source": [
    "反向传播的数学原理：\n",
    "![](http://adventuresinmachinelearning.com/wp-content/uploads/2017/03/Three-layer-network-300x158.png) \n",
    "首先回顾一下第三部分学到的一些基本方法："
   ]
  },
  {
   "cell_type": "markdown",
   "metadata": {},
   "source": [
    "输出可以被这样计算：\n",
    "\\begin{equation}\n",
    " h_{W,b}(x) = h_1^{(3)} = f(w_{11}^{(2)}h_1^{(2)} + w_{12}^{(2)} h_2^{(2)} + w_{13}^{(2)} h_3^{(2)} + b_1^{(2)})\n",
    " \\end{equation}\n",
    "我们也可以用 $h_1^{(3)} = f(z_1^{(2)})$简化方程：\n",
    "\\begin{equation}\n",
    "z_{1}^{(2)} = w_{11}^{(2)}h_1^{(2)} + w_{12}^{(2)} h_2^{(2)} + w_{13}^{(2)} h_3^{(2)} + b_1^{(2)}\n",
    " \\end{equation}"
   ]
  },
  {
   "cell_type": "markdown",
   "metadata": {},
   "source": [
    "假设我们想知道 $w_{12}^{(2)}$的改变对成本函数$J$造成的影响的大小，则需要计算 $\\frac {\\partial J}{\\partial w_{12}^{(2)}}$，而为了计算这个偏导数，我们需要链式求导：\n",
    "\\begin{equation}\n",
    "\\frac {\\partial J}{\\partial w_{12}^{(2)}} = \\frac {\\partial J}{\\partial h_1^{(3)}} \\frac {\\partial h_1^{(3)}}{\\partial z_1^{(2)}} \\frac {\\partial z_1^{(2)}}{\\partial w_{12}^{(2)}}\n",
    " \\end{equation}"
   ]
  },
  {
   "cell_type": "markdown",
   "metadata": {},
   "source": [
    "让我们从最后一个分式$\\frac {\\partial z_1^{(2)}}{\\partial w_{12}^{(2)}}$开始，计算偏导数得：\n",
    "\\begin{align}\n",
    " \\frac {\\partial z_1^{(2)}}{\\partial w_{12}^{(2)}} &= \\frac {\\partial}{\\partial w_{12}^{(2)}} (w_{11}^{(1)}h_1^{(2)} + w_{12}^{(1)} h_2^{(2)} + w_{13}^{(1)} h_3^{(2)} + b_1^{(1)})\\\\\n",
    " &= \\frac {\\partial}{\\partial w_{12}^{(2)}} (w_{12}^{(1)} h_2^{(2)})\\\\\n",
    " &= h_2^{(2)}\n",
    " \\end{align}\n",
    " 最终等于第二层的第二个节点的输出"
   ]
  },
  {
   "cell_type": "markdown",
   "metadata": {},
   "source": [
    "下面是中间的分式：$\\frac {\\partial h_1^{(3)}}{\\partial z_1^{(2)}}$，这是$h_1^{(3)}$输出层的偏导数，由于这个函数需要可导，故神经网络的激活函数需要可微。故sigmoid函数的导数为：\n",
    "\\begin{align}\n",
    "\\frac {\\partial h}{\\partial z} = f'(z) = f(z)(1-f(z))\n",
    " \\end{align}"
   ]
  },
  {
   "cell_type": "markdown",
   "metadata": {},
   "source": [
    "下面我们需要计算出第一个分式$\\frac {\\partial J}{\\partial h_1^{(3)}}$，记住$J(w,b,x,y)$是MSE损失函数，在此例中公式为：$J(w,b,x,y) = \\frac{1}{2} \\parallel y_1 – h_1^{(3)}(z_1^{(2)}) \\parallel ^2$,其中y_1是训练目标。再次使用链式法则：\n",
    "\\begin{align}\n",
    " &Let\\ u = \\parallel y_1 – h_1^{(3)}(z_1^{(2)}) \\parallel\\ and\\ J = \\frac {1}{2} u^2\\\\\n",
    " &Using\\ \\frac {\\partial J}{\\partial h} = \\frac {\\partial J}{\\partial u} \\frac {\\partial u}{\\partial h}:\\\\\n",
    " &\\frac {\\partial J}{\\partial h} = -(y_1 – h_1^{(3)})\n",
    " \\end{align}"
   ]
  },
  {
   "cell_type": "markdown",
   "metadata": {},
   "source": [
    "******\n",
    "现在我们知道了如何计算$\\frac {\\partial J}{\\partial w_{12}^{(2)}}$，在我们看向隐藏层之前，先介绍一些简化符号和$\\delta$：\n",
    "\\begin{align}\n",
    "\\delta_i^{(n_l)} = -(y_i – h_i^{(n_l)})\\cdot f^\\prime(z_i^{(n_l)})\n",
    " \\end{align}"
   ]
  },
  {
   "cell_type": "markdown",
   "metadata": {},
   "source": [
    "$i$是输出层的节点号，在我们的例子中只有一个，故在本例中$i=1$，现在我们可以将损失函数对权重的偏导写作：\n",
    "\\begin{align}\n",
    " \\frac{\\partial}{\\partial W_{ij}^{(l)}} J(W,b,x, y) &= h^{(l)}_j \\delta_i^{(l+1)} \\\\\n",
    " \\end{align}\n",
    "其中，输出层的$l=2$"
   ]
  },
  {
   "cell_type": "markdown",
   "metadata": {},
   "source": [
    "## Propagating into the hidden layers"
   ]
  },
  {
   "cell_type": "markdown",
   "metadata": {},
   "source": [
    "那么其他隐藏层呢，对于连接到输出层的$\\frac{\\partial J}{\\partial h}=-（y_i–h_i^{（n_l）}）$的偏导是有意义的，因为可以将输出层与训练数据直接比较来算成本函数，然而更深的隐藏层并没有训练数据来计算成本函数，这时便可以使用反向传播算法。"
   ]
  },
  {
   "cell_type": "markdown",
   "metadata": {},
   "source": [
    "我们已经使用链式法则完成了推导，下面可以采用更图形化的方式，需要通过网络回传的术语是$\\delta_i^{（n_l）}$\n",
    "![](http://adventuresinmachinelearning.com/wp-content/uploads/2017/03/Backpropagation-illustration-300x204.jpg)"
   ]
  },
  {
   "cell_type": "markdown",
   "metadata": {},
   "source": [
    "在只有一个输出节点时，隐藏层的$\\delta$定义为：\n",
    "\\begin{align}\n",
    "\\delta_j^{(l)} = \\delta_1^{(l+1)} w_{1j}^{(l)}\\ f^\\prime(z_j)^{(l)}\n",
    "\\end{align}\n",
    "其中，$j$是层$l$中的节点号。"
   ]
  },
  {
   "cell_type": "markdown",
   "metadata": {},
   "source": [
    "若有多个输出节点，则需要所有连接节点的加权和：\n",
    "![](http://adventuresinmachinelearning.com/wp-content/uploads/2017/03/Backpropagation-illustration-with-multiple-outputs-300x242.jpg)"
   ]
  },
  {
   "cell_type": "markdown",
   "metadata": {},
   "source": [
    "从上面可以看出，输出层的每个$\\delta$值都包含在用于计算$\\delta_1^{（2）}$的总和中，但每个输出$\\delta$都根据适当的$w_{i1}{（2）}$值进行加权。换句话说，第2层中的节点1导致了三个输出节点的误差，因此每个节点的测量误差（或成本函数值）必须“传回”到该节点的$\\delta$值。现在，我们可以为隐藏层中的节点的$\\delta$值开发一个通用表达式："
   ]
  },
  {
   "cell_type": "markdown",
   "metadata": {},
   "source": [
    "\\begin{align}\n",
    "\\delta_j^{(l)} = (\\sum_{i=1}^{s_{(l+1)}} w_{ij}^{(l)} \\delta_i^{(l+1)})\\ f^\\prime(z_j^{(l)})\n",
    "\\end{align}"
   ]
  },
  {
   "cell_type": "markdown",
   "metadata": {},
   "source": [
    "其中，$j$是层$l$中的节点号，$i$是层$l+1$中的节点号。值$s_{（l+1）}$是层$（l+1）$中的节点数。"
   ]
  },
  {
   "cell_type": "markdown",
   "metadata": {},
   "source": [
    "故现在可以计算：\n",
    "\\begin{align}\n",
    "\\frac{\\partial}{\\partial W_{ij}^{(l)}} J(W,b,x, y) = h^{(l)}_j \\delta_i^{(l+1)}\n",
    "\\end{align}"
   ]
  },
  {
   "cell_type": "markdown",
   "metadata": {},
   "source": [
    "同理，对偏置用相同的方法推出公式：\n",
    "\\begin{align}\n",
    "\\frac{\\partial}{\\partial b_{i}^{(l)}} J(W,b,x, y) = \\delta_i^{(l+1)}\n",
    "\\end{align}"
   ]
  },
  {
   "cell_type": "markdown",
   "metadata": {},
   "source": [
    "现在我们知道如何处理原始梯度下降问题：\n",
    "\\begin{align}\n",
    " w_{ij}^{(l)} &= w_{ij}^{(l)} – \\alpha \\frac{\\partial}{\\partial w_{ij}^{(l)}} J(w,b) \\\\\n",
    " b_{i}^{(l)} &= b_{i}^{(l)} – \\alpha \\frac{\\partial}{\\partial b_{i}^{(l)}} J(w,b)\n",
    " \\end{align}"
   ]
  },
  {
   "cell_type": "markdown",
   "metadata": {},
   "source": [
    "但是要对所有权重梯度下降，我们会用到多个循环，但这种循环很慢，所以我们要将这些计算矢量化"
   ]
  },
  {
   "cell_type": "markdown",
   "metadata": {},
   "source": [
    "## Vectorisation of backpropagation"
   ]
  },
  {
   "cell_type": "markdown",
   "metadata": {},
   "source": [
    "\\begin{align}\n",
    "\\delta_j^{(l)} = (\\sum_{i=1}^{s_{(l+1)}} w_{ij}^{(l)} \\delta_i^{(l+1)})\\ f^\\prime(z_j^{(l)}) = \\left((W^{(l)})^T \\delta^{(l+1)}\\right) \\bullet f'(z^{(l)})\n",
    " \\end{align}"
   ]
  },
  {
   "cell_type": "markdown",
   "metadata": {},
   "source": [
    "其中$\\bullet$符号表示元素对元素的乘法（称为Hadamard乘积），而不是矩阵乘法。"
   ]
  },
  {
   "cell_type": "markdown",
   "metadata": {},
   "source": [
    "## Implementing the gradient descent step"
   ]
  },
  {
   "cell_type": "markdown",
   "metadata": {},
   "source": [
    "现在让我们再次审视我们试图最小化的总体成本函数：\n",
    "\\begin{align}\n",
    " J(w,b) &= \\frac{1}{m} \\sum_{z=0}^m J(W, b, x^{(z)}, y^{(z)})\n",
    " \\end{align}\n",
    " 我们可以看到整体成本函数是所有样本的成本函数的平均值"
   ]
  },
  {
   "cell_type": "markdown",
   "metadata": {},
   "source": [
    "故梯度下降计算\n",
    "\\begin{align}\n",
    " w_{ij}^{(l)} &= w_{ij}^{(l)} – \\alpha \\frac{\\partial}{\\partial w_{ij}^{(l)}} J(w,b)\\\\\n",
    " W^{(l)} &= W^{(l)} – \\alpha \\frac{\\partial}{\\partial W^{(l)}} J(w,b)\\\\\n",
    " &= W^{(l)} – \\alpha \\left[\\frac{1}{m} \\sum_{z=1}^{m} \\frac {\\partial}{\\partial W^{(l)}} J(w,b,x^{(z)},y^{(z)}) \\right]\\\\\n",
    " \\end{align}"
   ]
  },
  {
   "cell_type": "markdown",
   "metadata": {},
   "source": [
    "我们需要一个符号来储存用来计算平均值的所有值：$\\Delta W^{（l）}$，$\\Delta b^{（l）}$。故在训练每个样本的迭代中有：\n",
    "\\begin{align}\n",
    " \\Delta W^{(l)} &= \\Delta W^{(l)} + \\frac {\\partial}{\\partial W^{(l)}} J(w,b,x^{(z)},y^{(z)})\\\\\n",
    " &= \\Delta W^{(l)} + \\delta^{(l+1)} (h^{(l)})^T\\\\\n",
    " \\Delta b^{(l)} &= \\Delta b^{(1)} + \\delta^{(l+1)}\n",
    " \\end{align}"
   ]
  },
  {
   "cell_type": "markdown",
   "metadata": {},
   "source": [
    "通过在每次迭代中执行上述操作，我们慢慢地构建前面提到的$\\sum_{z=1}^{m} \\frac {\\partial}{\\partial W^{(l)}} J(w,b,x^{(z)},y^{(z)})$（对于$b$也是如此）。\n",
    "在遍历所有样本并汇总$\\Delta$值后，我们将更新权重参数：\n",
    "\\begin{align}\n",
    " W^{(l)} &= W^{(l)} – \\alpha \\left[\\frac{1}{m} \\Delta W^{(l)} \\right] \\\\\n",
    " b^{(l)} &= b^{(l)} – \\alpha \\left[\\frac{1}{m} \\Delta b^{(l)}\\right]\n",
    " \\end{align}"
   ]
  },
  {
   "cell_type": "markdown",
   "metadata": {},
   "source": [
    "## The final gradient descent algorithm"
   ]
  },
  {
   "cell_type": "markdown",
   "metadata": {},
   "source": [
    "最终的反向传播算法：\n",
    "******\n",
    "随机初始化每个层的权重 $W^{(l)}$\n",
    "\n",
    "若迭代次数<迭代次数限制：\n",
    "\n",
    ">1.将$\\Delta W$和$\\Delta b$设置为零\n",
    "\n",
    ">2.对于样本1至m：\n",
    "\n",
    ">>a、 在所有的$n_l$层中执行前向传播。存储激活函数输出$h^{(l)}$\n",
    "\n",
    ">>b、 计算输出层的$\\delta^{(n_l)}$值\n",
    "\n",
    ">>c、 使用反向传播计算第2层到第1层的$\\delta^{(l)}$值\n",
    "\n",
    ">>d、 更新每个层的$\\Delta W^{(l)}$和$\\Delta b^{(l)}$\n",
    "\n",
    ">3.使用以下方法执行梯度下降步骤：\n",
    "\n",
    ">$W^{(l)} = W^{(l)} – \\alpha \\left[\\frac{1}{m} \\Delta W^{(l)} \\right]$\n",
    "\n",
    "\n",
    ">$b^{(l)} = b^{(l)} – \\alpha \\left[\\frac{1}{m} \\Delta b^{(l)}\\right]$\n",
    "\n",
    "******"
   ]
  },
  {
   "cell_type": "markdown",
   "metadata": {},
   "source": [
    "# Implementing the neural network in Python"
   ]
  },
  {
   "cell_type": "markdown",
   "metadata": {},
   "source": [
    "神经网络手写分类实例："
   ]
  },
  {
   "cell_type": "code",
   "execution_count": null,
   "metadata": {},
   "outputs": [],
   "source": [
    "#导入数据"
   ]
  },
  {
   "cell_type": "code",
   "execution_count": 98,
   "metadata": {},
   "outputs": [],
   "source": [
    "from sklearn.datasets import load_digits\n",
    "digits = load_digits()"
   ]
  },
  {
   "cell_type": "code",
   "execution_count": 102,
   "metadata": {},
   "outputs": [
    {
     "data": {
      "text/plain": [
       "(1797, 64)"
      ]
     },
     "execution_count": 102,
     "metadata": {},
     "output_type": "execute_result"
    }
   ],
   "source": [
    "digits.data.shape"
   ]
  },
  {
   "cell_type": "code",
   "execution_count": 110,
   "metadata": {},
   "outputs": [
    {
     "data": {
      "text/plain": [
       "<Figure size 432x288 with 0 Axes>"
      ]
     },
     "metadata": {},
     "output_type": "display_data"
    },
    {
     "data": {
      "image/png": "[encoded data removed]",
      "text/plain": [
       "<Figure size 288x288 with 1 Axes>"
      ]
     },
     "metadata": {
      "needs_background": "light"
     },
     "output_type": "display_data"
    }
   ],
   "source": [
    "import matplotlib.pyplot as plt\n",
    "plt.gray()\n",
    "plt.matshow(digits.images[1])\n",
    "plt.show()"
   ]
  },
  {
   "cell_type": "markdown",
   "metadata": {},
   "source": [
    "## Scaling data"
   ]
  },
  {
   "cell_type": "code",
   "execution_count": 112,
   "metadata": {},
   "outputs": [
    {
     "data": {
      "text/plain": [
       "array([ 0.,  0.,  5., 13.,  9.,  1.,  0.,  0.,  0.,  0., 13., 15., 10.,\n",
       "       15.,  5.,  0.,  0.,  3., 15.,  2.,  0., 11.,  8.,  0.,  0.,  4.,\n",
       "       12.,  0.,  0.,  8.,  8.,  0.,  0.,  5.,  8.,  0.,  0.,  9.,  8.,\n",
       "        0.,  0.,  4., 11.,  0.,  1., 12.,  7.,  0.,  0.,  2., 14.,  5.,\n",
       "       10., 12.,  0.,  0.,  0.,  0.,  6., 13., 10.,  0.,  0.,  0.])"
      ]
     },
     "execution_count": 112,
     "metadata": {},
     "output_type": "execute_result"
    }
   ],
   "source": [
    "digits.data[0,:]"
   ]
  },
  {
   "cell_type": "markdown",
   "metadata": {},
   "source": [
    "数据输入范围从0到15，我们应该将数据归一化或标准化，这样会有助于神经网络的收敛"
   ]
  },
  {
   "cell_type": "code",
   "execution_count": 114,
   "metadata": {},
   "outputs": [],
   "source": [
    "from sklearn.preprocessing import StandardScaler\n",
    "X_scale = StandardScaler()"
   ]
  },
  {
   "cell_type": "code",
   "execution_count": 116,
   "metadata": {},
   "outputs": [],
   "source": [
    "X = X_scale.fit_transform(digits.data)"
   ]
  },
  {
   "cell_type": "code",
   "execution_count": 118,
   "metadata": {},
   "outputs": [
    {
     "data": {
      "text/plain": [
       "array([ 0.        , -0.33501649, -0.04308102,  0.27407152, -0.66447751,\n",
       "       -0.84412939, -0.40972392, -0.12502292, -0.05907756, -0.62400926,\n",
       "        0.4829745 ,  0.75962245, -0.05842586,  1.12772113,  0.87958306,\n",
       "       -0.13043338, -0.04462507,  0.11144272,  0.89588044, -0.86066632,\n",
       "       -1.14964846,  0.51547187,  1.90596347, -0.11422184, -0.03337973,\n",
       "        0.48648928,  0.46988512, -1.49990136, -1.61406277,  0.07639777,\n",
       "        1.54181413, -0.04723238,  0.        ,  0.76465553,  0.05263019,\n",
       "       -1.44763006, -1.73666443,  0.04361588,  1.43955804,  0.        ,\n",
       "       -0.06134367,  0.8105536 ,  0.63011714, -1.12245711, -1.06623158,\n",
       "        0.66096475,  0.81845076, -0.08874162, -0.03543326,  0.74211893,\n",
       "        1.15065212, -0.86867056,  0.11012973,  0.53761116, -0.75743581,\n",
       "       -0.20978513, -0.02359646, -0.29908135,  0.08671869,  0.20829258,\n",
       "       -0.36677122, -1.14664746, -0.5056698 , -0.19600752])"
      ]
     },
     "execution_count": 118,
     "metadata": {},
     "output_type": "execute_result"
    }
   ],
   "source": [
    "X[0,:]"
   ]
  },
  {
   "cell_type": "markdown",
   "metadata": {},
   "source": [
    "## Creating test and training datasets"
   ]
  },
  {
   "cell_type": "code",
   "execution_count": 120,
   "metadata": {},
   "outputs": [],
   "source": [
    "from sklearn.model_selection import train_test_split\n",
    "y = digits.target\n",
    "X_train,X_test,y_train,y_test = train_test_split(X,y,test_size=0.4)"
   ]
  },
  {
   "cell_type": "markdown",
   "metadata": {},
   "source": [
    "## Setting up the output layer"
   ]
  },
  {
   "cell_type": "code",
   "execution_count": 123,
   "metadata": {},
   "outputs": [],
   "source": [
    "#设置输出层，将输出的形式改为【0，0，1，0，0，0，0，0，0，0】\n",
    "def convert_y_to_vect(y):\n",
    "    y_vect = np.zeros((len(y),10))\n",
    "    for i in range(len(y)):\n",
    "        y_vect[i,y[i]]=1\n",
    "    return y_vect"
   ]
  },
  {
   "cell_type": "code",
   "execution_count": 127,
   "metadata": {
    "scrolled": true
   },
   "outputs": [
    {
     "data": {
      "text/plain": [
       "array([2, 6, 0, 5, 0, 5, 1, 6, 5, 7, 7, 6, 5, 8, 1, 4, 3, 0, 4, 8, 0, 8,\n",
       "       8, 8, 4, 3, 5, 9, 6, 5, 0, 0, 5, 8, 1, 5, 2, 6, 1, 6, 0, 8, 2, 5,\n",
       "       0, 7, 8, 1, 0, 0, 5, 7, 4, 2, 0, 6, 6, 1, 9, 7, 9, 3, 4, 9, 8, 7,\n",
       "       8, 9, 2, 6, 6, 4, 4, 7, 6, 2, 8, 5, 3, 4, 3, 1, 5, 7, 6, 6, 9, 6,\n",
       "       4, 9, 4, 9, 0, 3, 9, 9, 8, 6, 1, 9, 3, 4, 3, 1, 8, 1, 4, 5, 0, 7,\n",
       "       8, 3, 2, 5, 5, 5, 3, 4, 7, 8, 6, 8, 3, 5, 4, 8, 6, 5, 7, 7, 1, 6,\n",
       "       3, 1, 0, 8, 2, 0, 1, 2, 9, 0, 3, 2, 6, 2, 8, 4, 4, 0, 6, 2, 1, 7,\n",
       "       7, 1, 7, 3, 0, 6, 3, 6, 8, 3, 6, 0, 1, 8, 7, 9, 4, 0, 5, 9, 8, 1,\n",
       "       0, 4, 6, 4, 5, 9, 3, 9, 8, 5, 0, 6, 7, 0, 3, 3, 7, 1, 7, 1, 5, 6,\n",
       "       5, 4, 2, 8, 0, 4, 7, 7, 6, 2, 7, 2, 1, 9, 6, 3, 4, 2, 9, 8, 4, 1,\n",
       "       6, 3, 9, 7, 9, 6, 0, 3, 2, 9, 4, 5, 0, 8, 5, 4, 6, 4, 2, 9, 2, 6,\n",
       "       0, 2, 3, 1, 4, 6, 7, 2, 8, 3, 6, 9, 2, 8, 8, 2, 8, 7, 4, 2, 3, 9,\n",
       "       5, 5, 7, 8, 4, 0, 0, 3, 7, 0, 5, 6, 8, 2, 2, 7, 7, 5, 6, 8, 2, 8,\n",
       "       3, 9, 0, 5, 5, 4, 9, 9, 4, 9, 5, 3, 5, 0, 0, 8, 3, 5, 5, 3, 3, 5,\n",
       "       2, 8, 7, 2, 8, 5, 4, 7, 6, 2, 2, 0, 0, 0, 8, 4, 6, 8, 5, 9, 1, 0,\n",
       "       0, 1, 1, 9, 4, 9, 7, 6, 4, 1, 7, 4, 0, 5, 4, 2, 7, 4, 3, 9, 2, 6,\n",
       "       5, 8, 5, 7, 7, 1, 9, 6, 7, 6, 8, 7, 9, 7, 2, 7, 2, 2, 4, 9, 1, 2,\n",
       "       5, 4, 0, 6, 1, 0, 2, 5, 3, 1, 7, 0, 6, 2, 2, 5, 0, 2, 5, 4, 5, 4,\n",
       "       3, 8, 3, 9, 1, 9, 1, 3, 2, 4, 9, 8, 3, 1, 6, 5, 9, 7, 7, 8, 7, 0,\n",
       "       1, 9, 6, 8, 9, 2, 0, 4, 3, 8, 8, 5, 3, 4, 6, 9, 6, 1, 5, 6, 1, 4,\n",
       "       0, 8, 1, 0, 0, 8, 5, 0, 6, 6, 1, 9, 4, 2, 3, 7, 5, 4, 2, 5, 0, 3,\n",
       "       0, 1, 9, 7, 7, 1, 2, 2, 6, 5, 9, 8, 8, 9, 5, 1, 9, 0, 6, 1, 0, 9,\n",
       "       3, 5, 5, 4, 0, 7, 5, 0, 1, 9, 4, 2, 4, 6, 5, 5, 4, 9, 1, 5, 9, 6,\n",
       "       2, 0, 4, 4, 6, 5, 7, 7, 2, 9, 5, 1, 3, 7, 0, 2, 1, 1, 0, 2, 1, 9,\n",
       "       3, 8, 3, 3, 7, 6, 2, 4, 6, 6, 9, 6, 0, 3, 6, 1, 3, 7, 8, 4, 8, 2,\n",
       "       3, 1, 8, 7, 9, 2, 4, 7, 3, 3, 2, 1, 7, 2, 7, 1, 4, 2, 6, 9, 0, 3,\n",
       "       1, 9, 0, 2, 4, 7, 4, 0, 1, 6, 7, 2, 1, 7, 2, 8, 1, 2, 0, 7, 7, 4,\n",
       "       3, 3, 8, 5, 4, 8, 8, 4, 4, 4, 5, 3, 6, 7, 1, 2, 2, 5, 6, 2, 0, 0,\n",
       "       8, 5, 8, 9, 7, 7, 4, 4, 1, 3, 7, 5, 9, 6, 5, 7, 5, 9, 8, 4, 2, 4,\n",
       "       8, 3, 8, 0, 0, 9, 3, 6, 6, 3, 9, 5, 3, 4, 1, 1, 2, 7, 2, 6, 7, 9,\n",
       "       2, 9, 8, 2, 1, 8, 0, 7, 7, 3, 6, 2, 9, 3, 4, 0, 5, 0, 6, 9, 6, 1,\n",
       "       8, 8, 3, 8, 2, 7, 7, 2, 1, 1, 6, 6, 3, 0, 7, 7, 4, 1, 8, 5, 1, 1,\n",
       "       1, 8, 6, 2, 5, 3, 5, 0, 8, 6, 0, 2, 2, 3, 1])"
      ]
     },
     "execution_count": 127,
     "metadata": {},
     "output_type": "execute_result"
    }
   ],
   "source": [
    "y_test"
   ]
  },
  {
   "cell_type": "code",
   "execution_count": 126,
   "metadata": {},
   "outputs": [],
   "source": [
    "y_v_train = convert_y_to_vect(y_train)\n",
    "y_v_test = convert_y_to_vect(y_test)"
   ]
  },
  {
   "cell_type": "code",
   "execution_count": 128,
   "metadata": {},
   "outputs": [
    {
     "data": {
      "text/plain": [
       "array([[0., 0., 1., ..., 0., 0., 0.],\n",
       "       [0., 0., 0., ..., 0., 0., 0.],\n",
       "       [1., 0., 0., ..., 0., 0., 0.],\n",
       "       ...,\n",
       "       [0., 0., 1., ..., 0., 0., 0.],\n",
       "       [0., 0., 0., ..., 0., 0., 0.],\n",
       "       [0., 1., 0., ..., 0., 0., 0.]])"
      ]
     },
     "execution_count": 128,
     "metadata": {},
     "output_type": "execute_result"
    }
   ],
   "source": [
    "y_v_test"
   ]
  },
  {
   "cell_type": "markdown",
   "metadata": {},
   "source": [
    "## Creating the neural network"
   ]
  },
  {
   "cell_type": "markdown",
   "metadata": {},
   "source": [
    "下面具体说明神经网络的结构，对于输入层，我们有64个节点对应64个像素，那么在输出层就需要10个节点对应数字，我们也需要隐藏层来执行复杂的任务，**通常隐藏层节点数介于输入层与输出层之间**"
   ]
  },
  {
   "cell_type": "code",
   "execution_count": 129,
   "metadata": {},
   "outputs": [],
   "source": [
    "#定义应该简单的网络列表来指定网络结构\n",
    "nn_structure = [64,30,10]"
   ]
  },
  {
   "cell_type": "code",
   "execution_count": 130,
   "metadata": {},
   "outputs": [],
   "source": [
    "#定义激活函数以及激活函数的导数\n",
    "def f(x):\n",
    "    return 1/(1+np.exp(-x))\n",
    "def f_deriv(x):\n",
    "    return f(x)*(1-f(x))"
   ]
  },
  {
   "cell_type": "markdown",
   "metadata": {},
   "source": [
    "最终的反向传播算法：\n",
    "******\n",
    "随机初始化每个层的权重 $W^{(l)}$\n",
    "\n",
    "若迭代次数<迭代次数限制：\n",
    "\n",
    ">1.将$\\Delta W$和$\\Delta b$设置为零\n",
    "\n",
    ">2.对于样本1至m：\n",
    "\n",
    ">>a、 在所有的$n_l$层中执行前向传播。存储激活函数输出$h^{(l)}$\n",
    "\n",
    ">>b、 计算输出层的$\\delta^{(n_l)}$值\n",
    "\n",
    ">>c、 使用反向传播计算第2层到第1层的$\\delta^{(l)}$值\n",
    "\n",
    ">>d、 更新每个层的$\\Delta W^{(l)}$和$\\Delta b^{(l)}$\n",
    "\n",
    ">3.使用以下方法执行梯度下降步骤：\n",
    "\n",
    ">$W^{(l)} = W^{(l)} – \\alpha \\left[\\frac{1}{m} \\Delta W^{(l)} \\right]$\n",
    "\n",
    "\n",
    ">$b^{(l)} = b^{(l)} – \\alpha \\left[\\frac{1}{m} \\Delta b^{(l)}\\right]$\n",
    "\n",
    "******"
   ]
  },
  {
   "cell_type": "markdown",
   "metadata": {},
   "source": [
    "第一步：初始化权重，为了保证网络正确收敛，使用随机值初始化权重"
   ]
  },
  {
   "cell_type": "code",
   "execution_count": 136,
   "metadata": {},
   "outputs": [],
   "source": [
    "import numpy.random as r\n",
    "def setup_and_init_weights(nn_structure):\n",
    "    W = {}\n",
    "    b = {}\n",
    "    for l in range(1,len(nn_structure)):\n",
    "        W[l] = r.random_sample((nn_structure[l],nn_structure[l-1]))#创建形状为（L，L-1）的随机矩阵\n",
    "        b[l] = r.random_sample((nn_structure[l],))\n",
    "    return W, b"
   ]
  },
  {
   "cell_type": "markdown",
   "metadata": {},
   "source": [
    "然后将相同形状的$\\Delta W$和$\\Delta b$设为0"
   ]
  },
  {
   "cell_type": "code",
   "execution_count": 137,
   "metadata": {},
   "outputs": [],
   "source": [
    "import numpy.random as r\n",
    "def init_tri_values(nn_structure):\n",
    "    tri_W = {}\n",
    "    tri_b = {}\n",
    "    for l in range(1,len(nn_structure)):\n",
    "        tri_W[l] = r.random_sample((nn_structure[l],nn_structure[l-1]))#创建形状为（L，L-1）的随机矩阵\n",
    "        tri_b[l] = r.random_sample((nn_structure[l],))\n",
    "    return tri_W, tri_b"
   ]
  },
  {
   "cell_type": "markdown",
   "metadata": {},
   "source": [
    "然后执行前向传播"
   ]
  },
  {
   "cell_type": "code",
   "execution_count": 138,
   "metadata": {},
   "outputs": [],
   "source": [
    "def feed_forward(x,W,b):\n",
    "    h = {1:x}\n",
    "    z = {}\n",
    "    for l in range(1,len(W) + 1):\n",
    "        #若是第一层则输出x，否则输入其他层的输出\n",
    "        if l == 1:\n",
    "            node_in = x\n",
    "        else:\n",
    "            node_in = h[l]\n",
    "        z[l+1] = W[l].dot(node_in) + b[l]\n",
    "        h[l+1] = f(z[l+1])\n",
    "    return h,z"
   ]
  },
  {
   "cell_type": "markdown",
   "metadata": {},
   "source": [
    "最后，计算输出层的$\\delta^{(n_l)}$ 与所有隐藏层的$\\delta^{(l)}$以进行反向传播"
   ]
  },
  {
   "cell_type": "markdown",
   "metadata": {},
   "source": [
    "$\\delta^{(n_l)} = -(y_i - h_i^{(nl)}) * f'(z_i^{(nl)})$  \n",
    "$\\delta^{(l)} = ((W^{(l)}.T) · \\delta^{(l+1)} ) * f'(z^{(l)})$"
   ]
  },
  {
   "cell_type": "code",
   "execution_count": 139,
   "metadata": {},
   "outputs": [],
   "source": [
    "def calculate_out_layer_delta(y,h_out,z_out):\n",
    "    return -(y-h_out) * f_deriv(z_out)\n",
    "def calculate_hidden_delta(delta_plus_1,w_1,z_1):\n",
    "    return np.dot(np.transpose(w_1),delta_plus_1) * f_deriv(z_1)"
   ]
  },
  {
   "cell_type": "markdown",
   "metadata": {},
   "source": [
    "现在我们可以将所有步骤合并到最终函数中"
   ]
  },
  {
   "cell_type": "code",
   "execution_count": 157,
   "metadata": {},
   "outputs": [],
   "source": [
    "def train_nn(nn_structure,X,y,iter_num=3000,alpha=0.25):\n",
    "    W,b=setup_and_init_weights(nn_structure)\n",
    "    cnt=0#循环次数\n",
    "    m=len(y)\n",
    "    avg_cost_func = []\n",
    "    print('Strat gradient desent for {} iterations'.format(iter_num))\n",
    "    while cnt<=iter_num:\n",
    "        if cnt%100 == 0:\n",
    "            print('Iteration {} of {} '.format(cnt,iter_num))\n",
    "        tri_W,tri_b=init_tri_values(nn_structure)\n",
    "        avg_cost = 0\n",
    "        for i in range(len(y)):#遍历每个样本\n",
    "            delta = {}\n",
    "            #执行前向传播并返回h与z值\n",
    "            h,z=feed_forward(X[i,:],W,b)\n",
    "            #循环从nl-1层到1层反向传播，获取梯度\n",
    "            for l in range(len(nn_structure),0,-1):\n",
    "                if l == len(nn_structure):\n",
    "                    delta[l]=calculate_out_layer_delta(y[i,:],h[l],z[l])#计算输出层的delta\n",
    "                    avg_cost +=np.linalg.norm((y[i,:]-h[l]))#矩阵整体元素平方开根号\n",
    "                else:\n",
    "                    if l >1:\n",
    "                        delta[l]=calculate_hidden_delta(delta[l+1],W[l],z[l])\n",
    "                    tri_W[l]+=np.dot(delta[l+1][:,np.newaxis],np.transpose(h[l][:,np.newaxis]))\n",
    "                    tri_b[l]+=delta[l+1]\n",
    "        #对每一层的权重执行梯度下降\n",
    "        for l in range(len(nn_structure)-1,0,-1):\n",
    "            W[l]+= -alpha * (1.0/m*tri_W[l])\n",
    "            b[l]+= -alpha * (1.0/m*tri_b[l])\n",
    "        #计算平均损失\n",
    "        avg_cost = 1.0/m*avg_cost\n",
    "        avg_cost_func.append(avg_cost)\n",
    "        cnt+=1\n",
    "        \n",
    "    return W,b,avg_cost_func"
   ]
  },
  {
   "cell_type": "code",
   "execution_count": 158,
   "metadata": {},
   "outputs": [
    {
     "name": "stdout",
     "output_type": "stream",
     "text": [
      "Strat gradient desent for 3000 iterations\n",
      "Iteration 0 of 3000 \n",
      "Iteration 100 of 3000 \n",
      "Iteration 200 of 3000 \n",
      "Iteration 300 of 3000 \n",
      "Iteration 400 of 3000 \n",
      "Iteration 500 of 3000 \n",
      "Iteration 600 of 3000 \n",
      "Iteration 700 of 3000 \n",
      "Iteration 800 of 3000 \n",
      "Iteration 900 of 3000 \n",
      "Iteration 1000 of 3000 \n",
      "Iteration 1100 of 3000 \n",
      "Iteration 1200 of 3000 \n",
      "Iteration 1300 of 3000 \n",
      "Iteration 1400 of 3000 \n",
      "Iteration 1500 of 3000 \n",
      "Iteration 1600 of 3000 \n",
      "Iteration 1700 of 3000 \n",
      "Iteration 1800 of 3000 \n",
      "Iteration 1900 of 3000 \n",
      "Iteration 2000 of 3000 \n",
      "Iteration 2100 of 3000 \n",
      "Iteration 2200 of 3000 \n",
      "Iteration 2300 of 3000 \n",
      "Iteration 2400 of 3000 \n",
      "Iteration 2500 of 3000 \n",
      "Iteration 2600 of 3000 \n",
      "Iteration 2700 of 3000 \n",
      "Iteration 2800 of 3000 \n",
      "Iteration 2900 of 3000 \n",
      "Iteration 3000 of 3000 \n"
     ]
    }
   ],
   "source": [
    "W,b,avg_cost_func = train_nn(nn_structure,X_train,y_v_train)"
   ]
  },
  {
   "cell_type": "code",
   "execution_count": 149,
   "metadata": {},
   "outputs": [
    {
     "data": {
      "text/plain": [
       "[64, 30, 10]"
      ]
     },
     "execution_count": 149,
     "metadata": {},
     "output_type": "execute_result"
    }
   ],
   "source": [
    "nn_structure"
   ]
  },
  {
   "cell_type": "code",
   "execution_count": 150,
   "metadata": {},
   "outputs": [
    {
     "data": {
      "text/plain": [
       "array([[ 0.        , -0.33501649, -1.09493684, ...,  1.22664392,\n",
       "         0.96153467, -0.19600752],\n",
       "       [ 0.        , -0.33501649, -0.46382335, ...,  1.05712311,\n",
       "        -0.5056698 , -0.19600752],\n",
       "       [ 0.        , -0.33501649, -1.09493684, ...,  1.39616473,\n",
       "         0.22793243, -0.19600752],\n",
       "       ...,\n",
       "       [ 0.        , -0.33501649, -0.46382335, ...,  1.56568555,\n",
       "         3.16234137,  5.71923007],\n",
       "       [ 0.        , -0.33501649, -0.88456568, ...,  0.20951905,\n",
       "        -0.5056698 , -0.19600752],\n",
       "       [ 0.        , -0.33501649, -0.67419451, ...,  1.56568555,\n",
       "         1.93967098, -0.19600752]])"
      ]
     },
     "execution_count": 150,
     "metadata": {},
     "output_type": "execute_result"
    }
   ],
   "source": [
    "X_train"
   ]
  },
  {
   "cell_type": "code",
   "execution_count": 151,
   "metadata": {},
   "outputs": [
    {
     "data": {
      "text/plain": [
       "array([[0., 0., 0., ..., 0., 0., 0.],\n",
       "       [0., 0., 0., ..., 0., 1., 0.],\n",
       "       [0., 0., 0., ..., 0., 0., 0.],\n",
       "       ...,\n",
       "       [0., 1., 0., ..., 0., 0., 0.],\n",
       "       [1., 0., 0., ..., 0., 0., 0.],\n",
       "       [0., 0., 0., ..., 0., 0., 0.]])"
      ]
     },
     "execution_count": 151,
     "metadata": {},
     "output_type": "execute_result"
    }
   ],
   "source": [
    "y_v_train"
   ]
  },
  {
   "cell_type": "code",
   "execution_count": 160,
   "metadata": {},
   "outputs": [
    {
     "data": {
      "text/plain": [
       "[<matplotlib.lines.Line2D at 0x1a47ff00340>]"
      ]
     },
     "execution_count": 160,
     "metadata": {},
     "output_type": "execute_result"
    },
    {
     "data": {
      "image/png": "[encoded data removed]",
      "text/plain": [
       "<Figure size 432x288 with 1 Axes>"
      ]
     },
     "metadata": {
      "needs_background": "light"
     },
     "output_type": "display_data"
    }
   ],
   "source": [
    "plt.plot(avg_cost_func)"
   ]
  },
  {
   "cell_type": "markdown",
   "metadata": {},
   "source": [
    "## Assessing the accuracy of the trained model"
   ]
  },
  {
   "cell_type": "code",
   "execution_count": 165,
   "metadata": {},
   "outputs": [],
   "source": [
    "def predict_y(W,b,X,n_layers):\n",
    "    m = X.shape[0]\n",
    "    y = np.zeros((m,))\n",
    "    for i in range(m):\n",
    "        h,z = feed_forward(X[i,:],W,b)\n",
    "        y[i] = np.argmax(h[n_layers])\n",
    "    return y"
   ]
  },
  {
   "cell_type": "code",
   "execution_count": 167,
   "metadata": {},
   "outputs": [
    {
     "data": {
      "text/plain": [
       "92.35048678720446"
      ]
     },
     "execution_count": 167,
     "metadata": {},
     "output_type": "execute_result"
    }
   ],
   "source": [
    "from sklearn.metrics import accuracy_score\n",
    "y_pred = predict_y(W,b,X_test,3)\n",
    "accuracy_score(y_test,y_pred)*100"
   ]
  },
  {
   "cell_type": "code",
   "execution_count": null,
   "metadata": {},
   "outputs": [],
   "source": []
  }
 ],
 "metadata": {
  "kernelspec": {
   "display_name": "Python 3.8.5 64-bit ('hhr': conda)",
   "language": "python",
   "name": "python38564bithhrcondad09f64edafd84b4fa1338fc362da389d"
  },
  "language_info": {
   "codemirror_mode": {
    "name": "ipython",
    "version": 3
   },
   "file_extension": ".py",
   "mimetype": "text/x-python",
   "name": "python",
   "nbconvert_exporter": "python",
   "pygments_lexer": "ipython3",
   "version": "3.8.5"
  },
  "toc": {
   "base_numbering": 1,
   "nav_menu": {},
   "number_sections": true,
   "sideBar": true,
   "skip_h1_title": false,
   "title_cell": "Table of Contents",
   "title_sidebar": "Contents",
   "toc_cell": false,
   "toc_position": {
    "height": "calc(100% - 180px)",
    "left": "10px",
    "top": "150px",
    "width": "202px"
   },
   "toc_section_display": true,
   "toc_window_display": true
  }
 },
 "nbformat": 4,
 "nbformat_minor": 4
}
